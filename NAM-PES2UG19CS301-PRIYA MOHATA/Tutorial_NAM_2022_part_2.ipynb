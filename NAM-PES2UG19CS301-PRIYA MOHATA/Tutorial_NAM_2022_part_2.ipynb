{
 "cells": [
  {
   "cell_type": "markdown",
   "metadata": {
    "slideshow": {
     "slide_type": "slide"
    }
   },
   "source": [
    " <div style=\"text-align: center \">Hands on : Social Network Analytics </div>\n",
    "\n",
    "<div style=\"text-align: center \">                        Class Tutorial Part 2  </div>\n",
    " <div style=\"text-align: center \"> Network Analysis and Mining CSE, 2022) </div>\n",
    " \n",
    " <div style=\"text-align: center \"> Part 2 of Unit 1 Hands on </div>\n",
    "\n",
    " <div style=\"text-align: center \">  Bhaskarjyoti Das </div>\n",
    "<div style=\"text-align: center \"> PES University </div>\n",
    "\n",
    "<div style=\"text-align: center \"> Disclaimer : The material is borrowed, adapted, modified and further developed using various tutorials at Networkx sites and elsewhere </div>\n",
    "\n"
   ]
  },
  {
   "cell_type": "code",
   "execution_count": 1,
   "metadata": {
    "ExecuteTime": {
     "end_time": "2022-01-25T04:40:09.987780Z",
     "start_time": "2022-01-25T04:40:09.358465Z"
    },
    "slideshow": {
     "slide_type": "slide"
    }
   },
   "outputs": [
    {
     "name": "stdout",
     "output_type": "stream",
     "text": [
      "NetworkX version: 2.5\n"
     ]
    }
   ],
   "source": [
    "import warnings\n",
    "warnings.filterwarnings('ignore')\n",
    "\n",
    "import networkx as nx\n",
    "import matplotlib.pyplot as plt\n",
    "%matplotlib inline\n",
    "print('NetworkX version: {}'.format(nx.__version__))"
   ]
  },
  {
   "cell_type": "markdown",
   "metadata": {
    "slideshow": {
     "slide_type": "slide"
    }
   },
   "source": [
    "# Understand nodes, edges, degree\n",
    "\n"
   ]
  },
  {
   "cell_type": "markdown",
   "metadata": {
    "slideshow": {
     "slide_type": "slide"
    }
   },
   "source": [
    "##  Undirected Graphs"
   ]
  },
  {
   "cell_type": "code",
   "execution_count": 2,
   "metadata": {
    "ExecuteTime": {
     "end_time": "2022-01-25T04:40:14.080182Z",
     "start_time": "2022-01-25T04:40:13.945364Z"
    },
    "scrolled": true,
    "slideshow": {
     "slide_type": "slide"
    }
   },
   "outputs": [
    {
     "data": {
      "text/plain": [
       "{0: 3, 1: 2, 2: 2, 3: 2, 4: 2, 5: 1}"
      ]
     },
     "execution_count": 2,
     "metadata": {},
     "output_type": "execute_result"
    },
    {
     "data": {
      "image/png": "[encoded data removed]",
      "text/plain": [
       "<Figure size 432x288 with 1 Axes>"
      ]
     },
     "metadata": {},
     "output_type": "display_data"
    }
   ],
   "source": [
    "import networkx as nx\n",
    "G = nx.cycle_graph(5)\n",
    "G.add_edge(0, 5)\n",
    "nx.draw(G, pos=nx.fruchterman_reingold_layout(G), with_labels=True)\n",
    "dict(G.degree())"
   ]
  },
  {
   "cell_type": "code",
   "execution_count": 3,
   "metadata": {
    "ExecuteTime": {
     "end_time": "2022-01-25T04:40:14.813577Z",
     "start_time": "2022-01-25T04:40:14.801609Z"
    },
    "slideshow": {
     "slide_type": "slide"
    }
   },
   "outputs": [
    {
     "data": {
      "text/plain": [
       "1"
      ]
     },
     "execution_count": 3,
     "metadata": {},
     "output_type": "execute_result"
    }
   ],
   "source": [
    "# You can also get the degree for a single node\n",
    "G.degree(5)"
   ]
  },
  {
   "cell_type": "markdown",
   "metadata": {
    "slideshow": {
     "slide_type": "slide"
    }
   },
   "source": [
    "## How to select the node with the greatest degree?"
   ]
  },
  {
   "cell_type": "code",
   "execution_count": 4,
   "metadata": {
    "ExecuteTime": {
     "end_time": "2022-01-25T04:40:15.345802Z",
     "start_time": "2022-01-25T04:40:15.333801Z"
    },
    "slideshow": {
     "slide_type": "slide"
    }
   },
   "outputs": [
    {
     "data": {
      "text/plain": [
       "0"
      ]
     },
     "execution_count": 4,
     "metadata": {},
     "output_type": "execute_result"
    }
   ],
   "source": [
    "max(G, key=G.degree)"
   ]
  },
  {
   "cell_type": "markdown",
   "metadata": {},
   "source": [
    "## Get the neighbors of a node"
   ]
  },
  {
   "cell_type": "code",
   "execution_count": 5,
   "metadata": {
    "ExecuteTime": {
     "end_time": "2022-01-25T04:40:16.837571Z",
     "start_time": "2022-01-25T04:40:16.821578Z"
    },
    "slideshow": {
     "slide_type": "slide"
    }
   },
   "outputs": [
    {
     "data": {
      "text/plain": [
       "[1, 4, 5]"
      ]
     },
     "execution_count": 5,
     "metadata": {},
     "output_type": "execute_result"
    }
   ],
   "source": [
    "# We can get the neighbors of node 0\n",
    "list(G.neighbors(0))"
   ]
  },
  {
   "cell_type": "code",
   "execution_count": 6,
   "metadata": {
    "ExecuteTime": {
     "end_time": "2022-01-25T04:40:17.566550Z",
     "start_time": "2022-01-25T04:40:17.557545Z"
    },
    "slideshow": {
     "slide_type": "slide"
    }
   },
   "outputs": [
    {
     "name": "stdout",
     "output_type": "stream",
     "text": [
      "{1: {}, 4: {}, 5: {}}\n"
     ]
    }
   ],
   "source": [
    "# We can also access the neighbors, along with the edge labels (empty in this example)\n",
    "# using the subscript notation\n",
    "print(G[0])"
   ]
  },
  {
   "cell_type": "markdown",
   "metadata": {
    "slideshow": {
     "slide_type": "slide"
    }
   },
   "source": [
    "##  Directed Graphs"
   ]
  },
  {
   "cell_type": "code",
   "execution_count": 7,
   "metadata": {
    "ExecuteTime": {
     "end_time": "2022-01-25T04:40:18.849008Z",
     "start_time": "2022-01-25T04:40:18.730299Z"
    },
    "slideshow": {
     "slide_type": "slide"
    }
   },
   "outputs": [
    {
     "data": {
      "image/png": "[encoded data removed]",
      "text/plain": [
       "<Figure size 432x288 with 1 Axes>"
      ]
     },
     "metadata": {},
     "output_type": "display_data"
    }
   ],
   "source": [
    "D = nx.cycle_graph(5, create_using=nx.DiGraph())\n",
    "D.add_edge(0, 5)\n",
    "nx.draw(D, pos=nx.fruchterman_reingold_layout(D), with_labels=True)"
   ]
  },
  {
   "cell_type": "code",
   "execution_count": 8,
   "metadata": {
    "ExecuteTime": {
     "end_time": "2022-01-25T04:40:19.224450Z",
     "start_time": "2022-01-25T04:40:19.210473Z"
    },
    "slideshow": {
     "slide_type": "slide"
    }
   },
   "outputs": [
    {
     "data": {
      "text/plain": [
       "{0: 1, 1: 1, 2: 1, 3: 1, 4: 1, 5: 1}"
      ]
     },
     "execution_count": 8,
     "metadata": {},
     "output_type": "execute_result"
    }
   ],
   "source": [
    "dict(D.in_degree())"
   ]
  },
  {
   "cell_type": "code",
   "execution_count": 9,
   "metadata": {
    "ExecuteTime": {
     "end_time": "2022-01-25T04:40:19.831564Z",
     "start_time": "2022-01-25T04:40:19.817567Z"
    },
    "slideshow": {
     "slide_type": "slide"
    }
   },
   "outputs": [
    {
     "data": {
      "text/plain": [
       "{0: 2, 1: 1, 2: 1, 3: 1, 4: 1, 5: 0}"
      ]
     },
     "execution_count": 9,
     "metadata": {},
     "output_type": "execute_result"
    }
   ],
   "source": [
    "dict(D.out_degree())"
   ]
  },
  {
   "cell_type": "code",
   "execution_count": 10,
   "metadata": {
    "ExecuteTime": {
     "end_time": "2022-01-25T04:40:20.112070Z",
     "start_time": "2022-01-25T04:40:20.107050Z"
    },
    "slideshow": {
     "slide_type": "slide"
    }
   },
   "outputs": [
    {
     "data": {
      "text/plain": [
       "[1, 5]"
      ]
     },
     "execution_count": 10,
     "metadata": {},
     "output_type": "execute_result"
    }
   ],
   "source": [
    "# We can get the successors of a node\n",
    "list(D.successors(0))"
   ]
  },
  {
   "cell_type": "code",
   "execution_count": 11,
   "metadata": {
    "ExecuteTime": {
     "end_time": "2022-01-25T04:40:20.470072Z",
     "start_time": "2022-01-25T04:40:20.458139Z"
    },
    "slideshow": {
     "slide_type": "slide"
    }
   },
   "outputs": [
    {
     "data": {
      "text/plain": [
       "[4]"
      ]
     },
     "execution_count": 11,
     "metadata": {},
     "output_type": "execute_result"
    }
   ],
   "source": [
    "# And it's predecessors\n",
    "list(D.predecessors(0))"
   ]
  },
  {
   "cell_type": "code",
   "execution_count": 12,
   "metadata": {
    "ExecuteTime": {
     "end_time": "2022-01-25T04:40:21.515140Z",
     "start_time": "2022-01-25T04:40:21.508126Z"
    },
    "slideshow": {
     "slide_type": "slide"
    }
   },
   "outputs": [
    {
     "name": "stdout",
     "output_type": "stream",
     "text": [
      "{1: {}, 5: {}}\n"
     ]
    }
   ],
   "source": [
    "# For digraphs the subscript notation yields the successors for a node\n",
    "print(D[0])"
   ]
  },
  {
   "cell_type": "markdown",
   "metadata": {
    "slideshow": {
     "slide_type": "slide"
    }
   },
   "source": [
    "##  Weighted Graphs and weighted degree\n",
    "\n",
    "Edges can have attributes, a very common and useful edge attribute is **weight** which is used to model intensity of relations.\n",
    "\n",
    "The weighted degree of a node is the sum of the weights of its incident edges. "
   ]
  },
  {
   "cell_type": "code",
   "execution_count": 13,
   "metadata": {
    "ExecuteTime": {
     "end_time": "2022-01-25T04:40:22.891757Z",
     "start_time": "2022-01-25T04:40:22.772975Z"
    },
    "scrolled": true,
    "slideshow": {
     "slide_type": "slide"
    }
   },
   "outputs": [
    {
     "data": {
      "text/plain": [
       "{(0, 1): Text(-0.5799870411419211, 0.39966590586670364, '1'),\n",
       " (0, 4): Text(0.2922588425159459, 0.6967195380597502, '2'),\n",
       " (1, 2): Text(-0.6002196848632025, -0.4951587216153098, '3'),\n",
       " (2, 3): Text(0.19691316023877564, -0.596385443926454, '4'),\n",
       " (3, 4): Text(0.6910347232504019, -0.004841278384690423, '5')}"
      ]
     },
     "execution_count": 13,
     "metadata": {},
     "output_type": "execute_result"
    },
    {
     "data": {
      "image/png": "[encoded data removed]",
      "text/plain": [
       "<Figure size 432x288 with 1 Axes>"
      ]
     },
     "metadata": {},
     "output_type": "display_data"
    }
   ],
   "source": [
    "W = nx.cycle_graph(5)\n",
    "for i, (u, v) in enumerate(W.edges(), 1):\n",
    "    W[u][v]['weight'] = i\n",
    "pos = nx.fruchterman_reingold_layout(W)\n",
    "nx.draw(W, pos=pos, with_labels=True)\n",
    "nx.draw_networkx_edge_labels(W, pos, edge_labels=nx.get_edge_attributes(W, 'weight'))"
   ]
  },
  {
   "cell_type": "code",
   "execution_count": 14,
   "metadata": {
    "ExecuteTime": {
     "end_time": "2022-01-25T04:40:23.451785Z",
     "start_time": "2022-01-25T04:40:23.433819Z"
    },
    "slideshow": {
     "slide_type": "slide"
    }
   },
   "outputs": [
    {
     "data": {
      "text/plain": [
       "{0: 2, 1: 2, 2: 2, 3: 2, 4: 2}"
      ]
     },
     "execution_count": 14,
     "metadata": {},
     "output_type": "execute_result"
    }
   ],
   "source": [
    "dict(W.degree())"
   ]
  },
  {
   "cell_type": "code",
   "execution_count": 15,
   "metadata": {
    "ExecuteTime": {
     "end_time": "2022-01-25T04:40:24.105528Z",
     "start_time": "2022-01-25T04:40:24.097549Z"
    },
    "slideshow": {
     "slide_type": "slide"
    }
   },
   "outputs": [
    {
     "data": {
      "text/plain": [
       "{0: 3, 1: 4, 2: 7, 3: 9, 4: 7}"
      ]
     },
     "execution_count": 15,
     "metadata": {},
     "output_type": "execute_result"
    }
   ],
   "source": [
    "dict(W.degree(weight='weight'))"
   ]
  },
  {
   "cell_type": "markdown",
   "metadata": {
    "slideshow": {
     "slide_type": "slide"
    }
   },
   "source": [
    "## How can we get the node with greatest weighted degree using the build-in **max** function?\n",
    " "
   ]
  },
  {
   "cell_type": "code",
   "execution_count": 16,
   "metadata": {
    "ExecuteTime": {
     "end_time": "2022-01-25T04:40:25.684111Z",
     "start_time": "2022-01-25T04:40:25.673142Z"
    },
    "slideshow": {
     "slide_type": "slide"
    }
   },
   "outputs": [
    {
     "data": {
      "text/plain": [
       "3"
      ]
     },
     "execution_count": 16,
     "metadata": {},
     "output_type": "execute_result"
    }
   ],
   "source": [
    "# Or also first computing the weighted degree for all nodes\n",
    "wdegree = dict(W.degree(weight='weight'))\n",
    "max(W, key=wdegree.get)"
   ]
  },
  {
   "cell_type": "markdown",
   "metadata": {
    "slideshow": {
     "slide_type": "slide"
    }
   },
   "source": [
    "# Understand paths, simple paths, and shortest paths\n",
    "\n",
    "* A **path** is an alternating sequence of distinct nodes and edges in which each edge is incident with its preceding and following nodes. The length of a path is the number of edges it contains. \n",
    "\n",
    "* A **simple path** is a path with no repeated nodes. See NetworkX documentation for [simple paths](http://networkx.readthedocs.io/en/stable/reference/algorithms.simple_paths.html).\n",
    "\n",
    "* The **shortest path** between two nodes is a path with the minimum number of edges. The **distance** between any two nodes $u$ and $v$ of $G$, denoted $d_{G}(u,v)$, is the length of the shortest path between them. See NetworkX documentation for [shortest paths](http://networkx.readthedocs.io/en/stable/reference/algorithms.shortest_paths.html).\n",
    "\n"
   ]
  },
  {
   "cell_type": "markdown",
   "metadata": {
    "slideshow": {
     "slide_type": "slide"
    }
   },
   "source": [
    "## Undirected Graphs"
   ]
  },
  {
   "cell_type": "code",
   "execution_count": 17,
   "metadata": {
    "ExecuteTime": {
     "end_time": "2022-01-25T04:40:28.514034Z",
     "start_time": "2022-01-25T04:40:28.501068Z"
    },
    "slideshow": {
     "slide_type": "slide"
    }
   },
   "outputs": [
    {
     "data": {
      "text/plain": [
       "True"
      ]
     },
     "execution_count": 17,
     "metadata": {},
     "output_type": "execute_result"
    }
   ],
   "source": [
    "nx.has_path(G, 0, 3)"
   ]
  },
  {
   "cell_type": "code",
   "execution_count": 18,
   "metadata": {
    "ExecuteTime": {
     "end_time": "2022-01-25T04:40:29.105572Z",
     "start_time": "2022-01-25T04:40:29.089582Z"
    },
    "slideshow": {
     "slide_type": "slide"
    }
   },
   "outputs": [
    {
     "data": {
      "text/plain": [
       "[[0, 1, 2, 3], [0, 4, 3]]"
      ]
     },
     "execution_count": 18,
     "metadata": {},
     "output_type": "execute_result"
    }
   ],
   "source": [
    "list(nx.all_simple_paths(G, 0, 3))"
   ]
  },
  {
   "cell_type": "code",
   "execution_count": 19,
   "metadata": {
    "ExecuteTime": {
     "end_time": "2022-01-25T04:40:29.698472Z",
     "start_time": "2022-01-25T04:40:29.681518Z"
    },
    "slideshow": {
     "slide_type": "slide"
    }
   },
   "outputs": [
    {
     "data": {
      "text/plain": [
       "[0, 4, 3]"
      ]
     },
     "execution_count": 19,
     "metadata": {},
     "output_type": "execute_result"
    }
   ],
   "source": [
    "nx.shortest_path(G, 0, 3)"
   ]
  },
  {
   "cell_type": "code",
   "execution_count": 20,
   "metadata": {
    "ExecuteTime": {
     "end_time": "2022-01-25T04:40:30.123184Z",
     "start_time": "2022-01-25T04:40:30.115235Z"
    },
    "slideshow": {
     "slide_type": "slide"
    }
   },
   "outputs": [
    {
     "data": {
      "text/plain": [
       "2"
      ]
     },
     "execution_count": 20,
     "metadata": {},
     "output_type": "execute_result"
    }
   ],
   "source": [
    "nx.shortest_path_length(G, 0, 3)"
   ]
  },
  {
   "cell_type": "markdown",
   "metadata": {
    "slideshow": {
     "slide_type": "slide"
    }
   },
   "source": [
    "How to obtaing the list of edges of a path from the list of nodes that NetworkX outputs?"
   ]
  },
  {
   "cell_type": "code",
   "execution_count": 21,
   "metadata": {
    "ExecuteTime": {
     "end_time": "2022-01-25T04:40:31.300248Z",
     "start_time": "2022-01-25T04:40:31.289246Z"
    },
    "slideshow": {
     "slide_type": "slide"
    }
   },
   "outputs": [
    {
     "name": "stdout",
     "output_type": "stream",
     "text": [
      "nodes in path: [0, 4, 3]\n",
      "edges in path: [(0, 4), (4, 3)]\n"
     ]
    }
   ],
   "source": [
    "path = nx.shortest_path(G, 0, 3)\n",
    "path_edges = list(zip(path, path[1:]))\n",
    "print(\"nodes in path: {}\".format(path))\n",
    "print(\"edges in path: {}\".format(path_edges))"
   ]
  },
  {
   "cell_type": "code",
   "execution_count": 22,
   "metadata": {
    "ExecuteTime": {
     "end_time": "2022-01-25T04:40:31.959099Z",
     "start_time": "2022-01-25T04:40:31.942158Z"
    },
    "slideshow": {
     "slide_type": "slide"
    }
   },
   "outputs": [
    {
     "data": {
      "text/plain": [
       "{0: [0], 1: [0, 1], 4: [0, 4], 5: [0, 5], 2: [0, 1, 2], 3: [0, 4, 3]}"
      ]
     },
     "execution_count": 22,
     "metadata": {},
     "output_type": "execute_result"
    }
   ],
   "source": [
    "# You can also compute all shortest paths from a single source node\n",
    "nx.single_source_shortest_path(G, 0)"
   ]
  },
  {
   "cell_type": "code",
   "execution_count": 23,
   "metadata": {
    "ExecuteTime": {
     "end_time": "2022-01-25T04:40:32.580598Z",
     "start_time": "2022-01-25T04:40:32.573585Z"
    },
    "slideshow": {
     "slide_type": "slide"
    }
   },
   "outputs": [],
   "source": [
    "# Or the shortest paths between each pair of nodes\n",
    "pair=nx.all_pairs_shortest_path(G)"
   ]
  },
  {
   "cell_type": "code",
   "execution_count": 24,
   "metadata": {
    "ExecuteTime": {
     "end_time": "2022-01-25T04:40:33.126402Z",
     "start_time": "2022-01-25T04:40:33.117462Z"
    },
    "slideshow": {
     "slide_type": "slide"
    }
   },
   "outputs": [
    {
     "name": "stdout",
     "output_type": "stream",
     "text": [
      "(0, {0: [0], 1: [0, 1], 4: [0, 4], 5: [0, 5], 2: [0, 1, 2], 3: [0, 4, 3]})\n",
      "(1, {1: [1], 0: [1, 0], 2: [1, 2], 4: [1, 0, 4], 5: [1, 0, 5], 3: [1, 2, 3]})\n",
      "(2, {2: [2], 1: [2, 1], 3: [2, 3], 0: [2, 1, 0], 4: [2, 3, 4], 5: [2, 1, 0, 5]})\n",
      "(3, {3: [3], 2: [3, 2], 4: [3, 4], 1: [3, 2, 1], 0: [3, 4, 0], 5: [3, 4, 0, 5]})\n",
      "(4, {4: [4], 3: [4, 3], 0: [4, 0], 2: [4, 3, 2], 1: [4, 0, 1], 5: [4, 0, 5]})\n",
      "(5, {5: [5], 0: [5, 0], 1: [5, 0, 1], 4: [5, 0, 4], 2: [5, 0, 1, 2], 3: [5, 0, 4, 3]})\n"
     ]
    }
   ],
   "source": [
    "print(*(n for n in pair), sep='\\n')"
   ]
  },
  {
   "cell_type": "markdown",
   "metadata": {
    "slideshow": {
     "slide_type": "slide"
    }
   },
   "source": [
    "##  Directed Graphs\n",
    "\n",
    "For directed graphs, paths have to follow the edge directions: "
   ]
  },
  {
   "cell_type": "code",
   "execution_count": 25,
   "metadata": {
    "ExecuteTime": {
     "end_time": "2022-01-25T04:40:33.639298Z",
     "start_time": "2022-01-25T04:40:33.629322Z"
    },
    "slideshow": {
     "slide_type": "slide"
    }
   },
   "outputs": [
    {
     "data": {
      "text/plain": [
       "True"
      ]
     },
     "execution_count": 25,
     "metadata": {},
     "output_type": "execute_result"
    }
   ],
   "source": [
    "nx.has_path(D, 0, 3)"
   ]
  },
  {
   "cell_type": "code",
   "execution_count": 26,
   "metadata": {
    "ExecuteTime": {
     "end_time": "2022-01-25T04:40:34.033550Z",
     "start_time": "2022-01-25T04:40:34.013568Z"
    },
    "slideshow": {
     "slide_type": "slide"
    }
   },
   "outputs": [
    {
     "data": {
      "text/plain": [
       "[[0, 1, 2, 3]]"
      ]
     },
     "execution_count": 26,
     "metadata": {},
     "output_type": "execute_result"
    }
   ],
   "source": [
    "list(nx.all_simple_paths(D, 0, 3))"
   ]
  },
  {
   "cell_type": "code",
   "execution_count": 27,
   "metadata": {
    "ExecuteTime": {
     "end_time": "2022-01-25T04:40:34.268098Z",
     "start_time": "2022-01-25T04:40:34.254163Z"
    },
    "slideshow": {
     "slide_type": "slide"
    }
   },
   "outputs": [
    {
     "data": {
      "text/plain": [
       "[0, 1, 2, 3]"
      ]
     },
     "execution_count": 27,
     "metadata": {},
     "output_type": "execute_result"
    }
   ],
   "source": [
    "nx.shortest_path(D, 0, 3)"
   ]
  },
  {
   "cell_type": "code",
   "execution_count": 28,
   "metadata": {
    "ExecuteTime": {
     "end_time": "2022-01-25T04:40:34.503503Z",
     "start_time": "2022-01-25T04:40:34.494524Z"
    },
    "slideshow": {
     "slide_type": "slide"
    }
   },
   "outputs": [
    {
     "data": {
      "text/plain": [
       "3"
      ]
     },
     "execution_count": 28,
     "metadata": {},
     "output_type": "execute_result"
    }
   ],
   "source": [
    "nx.shortest_path_length(D, 0, 3)"
   ]
  },
  {
   "cell_type": "code",
   "execution_count": 29,
   "metadata": {
    "ExecuteTime": {
     "end_time": "2022-01-25T04:40:34.736553Z",
     "start_time": "2022-01-25T04:40:34.720560Z"
    },
    "slideshow": {
     "slide_type": "slide"
    }
   },
   "outputs": [
    {
     "data": {
      "text/plain": [
       "{0: [0],\n",
       " 1: [0, 1],\n",
       " 5: [0, 5],\n",
       " 2: [0, 1, 2],\n",
       " 3: [0, 1, 2, 3],\n",
       " 4: [0, 1, 2, 3, 4]}"
      ]
     },
     "execution_count": 29,
     "metadata": {},
     "output_type": "execute_result"
    }
   ],
   "source": [
    "nx.single_source_shortest_path(D, 0)"
   ]
  },
  {
   "cell_type": "code",
   "execution_count": 30,
   "metadata": {
    "ExecuteTime": {
     "end_time": "2022-01-25T04:40:34.971056Z",
     "start_time": "2022-01-25T04:40:34.964048Z"
    },
    "slideshow": {
     "slide_type": "slide"
    }
   },
   "outputs": [],
   "source": [
    "pair=nx.all_pairs_shortest_path(D)"
   ]
  },
  {
   "cell_type": "code",
   "execution_count": 31,
   "metadata": {
    "ExecuteTime": {
     "end_time": "2022-01-25T04:40:35.204549Z",
     "start_time": "2022-01-25T04:40:35.186563Z"
    },
    "slideshow": {
     "slide_type": "slide"
    }
   },
   "outputs": [
    {
     "name": "stdout",
     "output_type": "stream",
     "text": [
      "(0, {0: [0], 1: [0, 1], 5: [0, 5], 2: [0, 1, 2], 3: [0, 1, 2, 3], 4: [0, 1, 2, 3, 4]})\n",
      "(1, {1: [1], 2: [1, 2], 3: [1, 2, 3], 4: [1, 2, 3, 4], 0: [1, 2, 3, 4, 0], 5: [1, 2, 3, 4, 0, 5]})\n",
      "(2, {2: [2], 3: [2, 3], 4: [2, 3, 4], 0: [2, 3, 4, 0], 1: [2, 3, 4, 0, 1], 5: [2, 3, 4, 0, 5]})\n",
      "(3, {3: [3], 4: [3, 4], 0: [3, 4, 0], 1: [3, 4, 0, 1], 5: [3, 4, 0, 5], 2: [3, 4, 0, 1, 2]})\n",
      "(4, {4: [4], 0: [4, 0], 1: [4, 0, 1], 5: [4, 0, 5], 2: [4, 0, 1, 2], 3: [4, 0, 1, 2, 3]})\n",
      "(5, {5: [5]})\n"
     ]
    }
   ],
   "source": [
    "print(*(n for n in pair), sep='\\n')"
   ]
  },
  {
   "cell_type": "markdown",
   "metadata": {
    "slideshow": {
     "slide_type": "slide"
    }
   },
   "source": [
    "##  Weighted Graphs\n",
    "\n",
    "For weighted graphs the definition of shortest path considers edge weights; the shprtest path is the path with minium total weight, and the path length is the sum of edge weights. This implies that the shortest weighted path does not necessary has less edges than an alternative path.\n",
    "\n",
    "For computing weighted shortest paths you have to pass a a keyword argument the name of the edge attribute used as weight:"
   ]
  },
  {
   "cell_type": "code",
   "execution_count": 32,
   "metadata": {
    "ExecuteTime": {
     "end_time": "2022-01-25T04:40:36.114623Z",
     "start_time": "2022-01-25T04:40:35.992886Z"
    },
    "slideshow": {
     "slide_type": "slide"
    }
   },
   "outputs": [
    {
     "data": {
      "text/plain": [
       "{('a', 'b'): Text(0.566549910160501, -0.06754747664348373, '0.3'),\n",
       " ('a', 'c'): Text(0.13022164583622775, 0.2124325374023246, '2.0'),\n",
       " ('b', 'c'): Text(0.30322844400327154, -0.22480465461024918, '0.5'),\n",
       " ('c', 'd'): Text(-0.5665499101605009, 0.06754747664348354, '1.0')}"
      ]
     },
     "execution_count": 32,
     "metadata": {},
     "output_type": "execute_result"
    },
    {
     "data": {
      "image/png": "[encoded data removed]",
      "text/plain": [
       "<Figure size 432x288 with 1 Axes>"
      ]
     },
     "metadata": {},
     "output_type": "display_data"
    }
   ],
   "source": [
    "W = nx.Graph()\n",
    "W.add_edge('a', 'b', weight=0.3)\n",
    "W.add_edge('b', 'c', weight=0.5)\n",
    "W.add_edge('a', 'c', weight=2.0)\n",
    "W.add_edge('c', 'd', weight=1.0)\n",
    "pos = nx.fruchterman_reingold_layout(W)\n",
    "nx.draw(W, pos=pos, with_labels=True)\n",
    "nx.draw_networkx_edge_labels(W, pos, edge_labels=nx.get_edge_attributes(W, 'weight'))"
   ]
  },
  {
   "cell_type": "code",
   "execution_count": 33,
   "metadata": {
    "ExecuteTime": {
     "end_time": "2022-01-25T04:40:36.284265Z",
     "start_time": "2022-01-25T04:40:36.267344Z"
    },
    "slideshow": {
     "slide_type": "slide"
    }
   },
   "outputs": [
    {
     "data": {
      "text/plain": [
       "['a', 'c', 'd']"
      ]
     },
     "execution_count": 33,
     "metadata": {},
     "output_type": "execute_result"
    }
   ],
   "source": [
    "nx.shortest_path(W, 'a', 'd')"
   ]
  },
  {
   "cell_type": "code",
   "execution_count": 34,
   "metadata": {
    "ExecuteTime": {
     "end_time": "2022-01-25T04:40:36.506300Z",
     "start_time": "2022-01-25T04:40:36.489347Z"
    },
    "slideshow": {
     "slide_type": "slide"
    }
   },
   "outputs": [
    {
     "data": {
      "text/plain": [
       "['a', 'b', 'c', 'd']"
      ]
     },
     "execution_count": 34,
     "metadata": {},
     "output_type": "execute_result"
    }
   ],
   "source": [
    "nx.shortest_path(W, 'a', 'd',weight='weight')"
   ]
  },
  {
   "cell_type": "code",
   "execution_count": 35,
   "metadata": {
    "ExecuteTime": {
     "end_time": "2022-01-25T04:40:36.785531Z",
     "start_time": "2022-01-25T04:40:36.778548Z"
    },
    "slideshow": {
     "slide_type": "slide"
    }
   },
   "outputs": [
    {
     "data": {
      "text/plain": [
       "1.8"
      ]
     },
     "execution_count": 35,
     "metadata": {},
     "output_type": "execute_result"
    }
   ],
   "source": [
    "nx.shortest_path_length(W, 'a', 'd',weight='weight')"
   ]
  },
  {
   "cell_type": "markdown",
   "metadata": {},
   "source": [
    "# Node centrality analysis \n",
    "\n",
    "NetworkX provides the network of florentine families modeled as an undirected graph:"
   ]
  },
  {
   "cell_type": "code",
   "execution_count": 36,
   "metadata": {
    "ExecuteTime": {
     "end_time": "2022-01-25T04:40:37.933513Z",
     "start_time": "2022-01-25T04:40:37.917538Z"
    }
   },
   "outputs": [],
   "source": [
    "G = nx.florentine_families_graph()"
   ]
  },
  {
   "cell_type": "code",
   "execution_count": 37,
   "metadata": {
    "ExecuteTime": {
     "end_time": "2022-01-25T04:40:38.166342Z",
     "start_time": "2022-01-25T04:40:38.156371Z"
    }
   },
   "outputs": [
    {
     "data": {
      "text/plain": [
       "[('Acciaiuoli', 'Medici', {}),\n",
       " ('Medici', 'Barbadori', {}),\n",
       " ('Medici', 'Ridolfi', {}),\n",
       " ('Medici', 'Tornabuoni', {}),\n",
       " ('Medici', 'Albizzi', {}),\n",
       " ('Medici', 'Salviati', {}),\n",
       " ('Castellani', 'Peruzzi', {}),\n",
       " ('Castellani', 'Strozzi', {}),\n",
       " ('Castellani', 'Barbadori', {}),\n",
       " ('Peruzzi', 'Strozzi', {}),\n",
       " ('Peruzzi', 'Bischeri', {}),\n",
       " ('Strozzi', 'Ridolfi', {}),\n",
       " ('Strozzi', 'Bischeri', {}),\n",
       " ('Ridolfi', 'Tornabuoni', {}),\n",
       " ('Tornabuoni', 'Guadagni', {}),\n",
       " ('Albizzi', 'Ginori', {}),\n",
       " ('Albizzi', 'Guadagni', {}),\n",
       " ('Salviati', 'Pazzi', {}),\n",
       " ('Bischeri', 'Guadagni', {}),\n",
       " ('Guadagni', 'Lamberteschi', {})]"
      ]
     },
     "execution_count": 37,
     "metadata": {},
     "output_type": "execute_result"
    }
   ],
   "source": [
    "# Nodes as tuples of nodes and edge attributes\n",
    "list(G.edges(data=True))"
   ]
  },
  {
   "cell_type": "code",
   "execution_count": 38,
   "metadata": {
    "ExecuteTime": {
     "end_time": "2022-01-25T04:40:38.431356Z",
     "start_time": "2022-01-25T04:40:38.416368Z"
    }
   },
   "outputs": [
    {
     "name": "stdout",
     "output_type": "stream",
     "text": [
      "\n",
      " The graph details: \n",
      "\n",
      " The no of nodes: 15\n",
      "\n",
      " The no of edges: 20\n",
      "\n",
      " The min degree: ('Acciaiuoli', 1)\n",
      "\n",
      " The max degree: ('Tornabuoni', 3)\n",
      "\n",
      " The no of edges: 20\n"
     ]
    }
   ],
   "source": [
    "s='\\n The graph details: '\n",
    "print (s)\n",
    "\n",
    "\n",
    "a=G.number_of_nodes()\n",
    "s='\\n The no of nodes: ' +repr(a)\n",
    "######################################################################\n",
    "#      DETAILS ABOUT THE GRAPH -- this is NOT really analysis\n",
    "#######################################################################\n",
    "\n",
    "a=G.number_of_nodes()\n",
    "s='\\n The no of nodes: ' +repr(a)\n",
    "######################################################################\n",
    "#      DETAILS ABOUT THE GRAPH -- this is NOT really analysis\n",
    "#######################################################################\n",
    "\n",
    "a=G.number_of_nodes()\n",
    "s='\\n The no of nodes: ' +repr(a)\n",
    "print (s)\n",
    "\n",
    "a= G.number_of_edges()\n",
    "s='\\n The no of edges: ' +repr(a)\n",
    "print (s)\n",
    "\n",
    "deg=nx.degree(G)\n",
    "a= min(deg)\n",
    "s='\\n The min degree: ' +repr(a)\n",
    "print (s)\n",
    "\n",
    "a = max(deg)\n",
    "s='\\n The max degree: ' +repr(a)\n",
    "print (s)\n",
    "\n",
    "a= G.number_of_edges()\n",
    "s='\\n The no of edges: ' +repr(a)\n",
    "print (s)\n",
    "\n"
   ]
  },
  {
   "cell_type": "code",
   "execution_count": 39,
   "metadata": {
    "ExecuteTime": {
     "end_time": "2022-01-25T04:40:38.663631Z",
     "start_time": "2022-01-25T04:40:38.653688Z"
    }
   },
   "outputs": [],
   "source": [
    "from operator import itemgetter"
   ]
  },
  {
   "cell_type": "code",
   "execution_count": 40,
   "metadata": {
    "ExecuteTime": {
     "end_time": "2022-01-25T04:40:38.914460Z",
     "start_time": "2022-01-25T04:40:38.894481Z"
    }
   },
   "outputs": [
    {
     "data": {
      "text/plain": [
       "[('Medici', 0.42857142857142855),\n",
       " ('Strozzi', 0.2857142857142857),\n",
       " ('Guadagni', 0.2857142857142857),\n",
       " ('Castellani', 0.21428571428571427),\n",
       " ('Peruzzi', 0.21428571428571427),\n",
       " ('Ridolfi', 0.21428571428571427),\n",
       " ('Tornabuoni', 0.21428571428571427),\n",
       " ('Albizzi', 0.21428571428571427),\n",
       " ('Bischeri', 0.21428571428571427),\n",
       " ('Barbadori', 0.14285714285714285),\n",
       " ('Salviati', 0.14285714285714285),\n",
       " ('Acciaiuoli', 0.07142857142857142),\n",
       " ('Pazzi', 0.07142857142857142),\n",
       " ('Ginori', 0.07142857142857142),\n",
       " ('Lamberteschi', 0.07142857142857142)]"
      ]
     },
     "execution_count": 40,
     "metadata": {},
     "output_type": "execute_result"
    }
   ],
   "source": [
    "degc = nx.degree_centrality(G)\n",
    "# let's list the scores\n",
    "sorted(degc.items(), key=itemgetter(1), reverse=True)"
   ]
  },
  {
   "cell_type": "markdown",
   "metadata": {},
   "source": [
    "## Betweenness centrality"
   ]
  },
  {
   "cell_type": "code",
   "execution_count": 41,
   "metadata": {
    "ExecuteTime": {
     "end_time": "2022-01-25T04:40:39.579555Z",
     "start_time": "2022-01-25T04:40:39.565595Z"
    }
   },
   "outputs": [
    {
     "data": {
      "text/plain": [
       "[('Medici', 0.521978021978022),\n",
       " ('Guadagni', 0.2545787545787546),\n",
       " ('Albizzi', 0.21245421245421245),\n",
       " ('Salviati', 0.14285714285714288),\n",
       " ('Ridolfi', 0.11355311355311355),\n",
       " ('Bischeri', 0.1043956043956044),\n",
       " ('Strozzi', 0.10256410256410257),\n",
       " ('Barbadori', 0.09340659340659341),\n",
       " ('Tornabuoni', 0.09157509157509157),\n",
       " ('Castellani', 0.05494505494505495),\n",
       " ('Peruzzi', 0.02197802197802198),\n",
       " ('Acciaiuoli', 0.0),\n",
       " ('Pazzi', 0.0),\n",
       " ('Ginori', 0.0),\n",
       " ('Lamberteschi', 0.0)]"
      ]
     },
     "execution_count": 41,
     "metadata": {},
     "output_type": "execute_result"
    }
   ],
   "source": [
    "bet = nx.betweenness_centrality(G)\n",
    "# let's list the scores\n",
    "sorted(bet.items(), key=itemgetter(1), reverse=True)"
   ]
  },
  {
   "cell_type": "markdown",
   "metadata": {},
   "source": [
    "##  Closeness centrality"
   ]
  },
  {
   "cell_type": "code",
   "execution_count": 42,
   "metadata": {
    "ExecuteTime": {
     "end_time": "2022-01-25T04:40:40.123544Z",
     "start_time": "2022-01-25T04:40:40.109561Z"
    }
   },
   "outputs": [
    {
     "data": {
      "text/plain": [
       "[('Medici', 0.56),\n",
       " ('Ridolfi', 0.5),\n",
       " ('Tornabuoni', 0.4827586206896552),\n",
       " ('Albizzi', 0.4827586206896552),\n",
       " ('Guadagni', 0.4666666666666667),\n",
       " ('Strozzi', 0.4375),\n",
       " ('Barbadori', 0.4375),\n",
       " ('Bischeri', 0.4),\n",
       " ('Castellani', 0.3888888888888889),\n",
       " ('Salviati', 0.3888888888888889),\n",
       " ('Acciaiuoli', 0.3684210526315789),\n",
       " ('Peruzzi', 0.3684210526315789),\n",
       " ('Ginori', 0.3333333333333333),\n",
       " ('Lamberteschi', 0.32558139534883723),\n",
       " ('Pazzi', 0.2857142857142857)]"
      ]
     },
     "execution_count": 42,
     "metadata": {},
     "output_type": "execute_result"
    }
   ],
   "source": [
    "clos = nx.closeness_centrality(G)\n",
    "# let's list the scores\n",
    "sorted(clos.items(), key=itemgetter(1), reverse=True)"
   ]
  },
  {
   "cell_type": "markdown",
   "metadata": {},
   "source": [
    "##  Eigenvector Centrality"
   ]
  },
  {
   "cell_type": "code",
   "execution_count": 43,
   "metadata": {
    "ExecuteTime": {
     "end_time": "2022-01-25T04:40:40.621487Z",
     "start_time": "2022-01-25T04:40:40.609519Z"
    }
   },
   "outputs": [
    {
     "data": {
      "text/plain": [
       "[('Medici', 0.4303154258349923),\n",
       " ('Strozzi', 0.3559730326460451),\n",
       " ('Ridolfi', 0.3415544259074365),\n",
       " ('Tornabuoni', 0.325846704169574),\n",
       " ('Guadagni', 0.2891171573226501),\n",
       " ('Bischeri', 0.2827943958713356),\n",
       " ('Peruzzi', 0.2757224374104833),\n",
       " ('Castellani', 0.2590200378423514),\n",
       " ('Albizzi', 0.2439605296754477),\n",
       " ('Barbadori', 0.2117057470647985),\n",
       " ('Salviati', 0.14592084164171834),\n",
       " ('Acciaiuoli', 0.1321573195285342),\n",
       " ('Lamberteschi', 0.08879253113499548),\n",
       " ('Ginori', 0.0749245316027793),\n",
       " ('Pazzi', 0.044814939703863084)]"
      ]
     },
     "execution_count": 43,
     "metadata": {},
     "output_type": "execute_result"
    }
   ],
   "source": [
    "eig = nx.eigenvector_centrality(G)\n",
    "# let's list the scores\n",
    "sorted(eig.items(), key=itemgetter(1), reverse=True)"
   ]
  },
  {
   "cell_type": "markdown",
   "metadata": {},
   "source": [
    "##  Comparing centrality measures "
   ]
  },
  {
   "cell_type": "code",
   "execution_count": 44,
   "metadata": {
    "ExecuteTime": {
     "end_time": "2022-01-25T04:41:28.427647Z",
     "start_time": "2022-01-25T04:40:41.057621Z"
    }
   },
   "outputs": [
    {
     "data": {
      "text/html": [
       "<div>\n",
       "<style scoped>\n",
       "    .dataframe tbody tr th:only-of-type {\n",
       "        vertical-align: middle;\n",
       "    }\n",
       "\n",
       "    .dataframe tbody tr th {\n",
       "        vertical-align: top;\n",
       "    }\n",
       "\n",
       "    .dataframe thead th {\n",
       "        text-align: right;\n",
       "    }\n",
       "</style>\n",
       "<table border=\"1\" class=\"dataframe\">\n",
       "  <thead>\n",
       "    <tr style=\"text-align: right;\">\n",
       "      <th></th>\n",
       "      <th>degree</th>\n",
       "      <th>betweenness</th>\n",
       "      <th>closeness</th>\n",
       "      <th>eigenvector</th>\n",
       "    </tr>\n",
       "  </thead>\n",
       "  <tbody>\n",
       "    <tr>\n",
       "      <th>Acciaiuoli</th>\n",
       "      <td>0.071429</td>\n",
       "      <td>0.000000</td>\n",
       "      <td>0.368421</td>\n",
       "      <td>0.132157</td>\n",
       "    </tr>\n",
       "    <tr>\n",
       "      <th>Medici</th>\n",
       "      <td>0.428571</td>\n",
       "      <td>0.521978</td>\n",
       "      <td>0.560000</td>\n",
       "      <td>0.430315</td>\n",
       "    </tr>\n",
       "    <tr>\n",
       "      <th>Castellani</th>\n",
       "      <td>0.214286</td>\n",
       "      <td>0.054945</td>\n",
       "      <td>0.388889</td>\n",
       "      <td>0.259020</td>\n",
       "    </tr>\n",
       "    <tr>\n",
       "      <th>Peruzzi</th>\n",
       "      <td>0.214286</td>\n",
       "      <td>0.021978</td>\n",
       "      <td>0.368421</td>\n",
       "      <td>0.275722</td>\n",
       "    </tr>\n",
       "    <tr>\n",
       "      <th>Strozzi</th>\n",
       "      <td>0.285714</td>\n",
       "      <td>0.102564</td>\n",
       "      <td>0.437500</td>\n",
       "      <td>0.355973</td>\n",
       "    </tr>\n",
       "    <tr>\n",
       "      <th>Barbadori</th>\n",
       "      <td>0.142857</td>\n",
       "      <td>0.093407</td>\n",
       "      <td>0.437500</td>\n",
       "      <td>0.211706</td>\n",
       "    </tr>\n",
       "    <tr>\n",
       "      <th>Ridolfi</th>\n",
       "      <td>0.214286</td>\n",
       "      <td>0.113553</td>\n",
       "      <td>0.500000</td>\n",
       "      <td>0.341554</td>\n",
       "    </tr>\n",
       "    <tr>\n",
       "      <th>Tornabuoni</th>\n",
       "      <td>0.214286</td>\n",
       "      <td>0.091575</td>\n",
       "      <td>0.482759</td>\n",
       "      <td>0.325847</td>\n",
       "    </tr>\n",
       "    <tr>\n",
       "      <th>Albizzi</th>\n",
       "      <td>0.214286</td>\n",
       "      <td>0.212454</td>\n",
       "      <td>0.482759</td>\n",
       "      <td>0.243961</td>\n",
       "    </tr>\n",
       "    <tr>\n",
       "      <th>Salviati</th>\n",
       "      <td>0.142857</td>\n",
       "      <td>0.142857</td>\n",
       "      <td>0.388889</td>\n",
       "      <td>0.145921</td>\n",
       "    </tr>\n",
       "    <tr>\n",
       "      <th>Pazzi</th>\n",
       "      <td>0.071429</td>\n",
       "      <td>0.000000</td>\n",
       "      <td>0.285714</td>\n",
       "      <td>0.044815</td>\n",
       "    </tr>\n",
       "    <tr>\n",
       "      <th>Bischeri</th>\n",
       "      <td>0.214286</td>\n",
       "      <td>0.104396</td>\n",
       "      <td>0.400000</td>\n",
       "      <td>0.282794</td>\n",
       "    </tr>\n",
       "    <tr>\n",
       "      <th>Guadagni</th>\n",
       "      <td>0.285714</td>\n",
       "      <td>0.254579</td>\n",
       "      <td>0.466667</td>\n",
       "      <td>0.289117</td>\n",
       "    </tr>\n",
       "    <tr>\n",
       "      <th>Ginori</th>\n",
       "      <td>0.071429</td>\n",
       "      <td>0.000000</td>\n",
       "      <td>0.333333</td>\n",
       "      <td>0.074925</td>\n",
       "    </tr>\n",
       "    <tr>\n",
       "      <th>Lamberteschi</th>\n",
       "      <td>0.071429</td>\n",
       "      <td>0.000000</td>\n",
       "      <td>0.325581</td>\n",
       "      <td>0.088793</td>\n",
       "    </tr>\n",
       "  </tbody>\n",
       "</table>\n",
       "</div>"
      ],
      "text/plain": [
       "                degree  betweenness  closeness  eigenvector\n",
       "Acciaiuoli    0.071429     0.000000   0.368421     0.132157\n",
       "Medici        0.428571     0.521978   0.560000     0.430315\n",
       "Castellani    0.214286     0.054945   0.388889     0.259020\n",
       "Peruzzi       0.214286     0.021978   0.368421     0.275722\n",
       "Strozzi       0.285714     0.102564   0.437500     0.355973\n",
       "Barbadori     0.142857     0.093407   0.437500     0.211706\n",
       "Ridolfi       0.214286     0.113553   0.500000     0.341554\n",
       "Tornabuoni    0.214286     0.091575   0.482759     0.325847\n",
       "Albizzi       0.214286     0.212454   0.482759     0.243961\n",
       "Salviati      0.142857     0.142857   0.388889     0.145921\n",
       "Pazzi         0.071429     0.000000   0.285714     0.044815\n",
       "Bischeri      0.214286     0.104396   0.400000     0.282794\n",
       "Guadagni      0.285714     0.254579   0.466667     0.289117\n",
       "Ginori        0.071429     0.000000   0.333333     0.074925\n",
       "Lamberteschi  0.071429     0.000000   0.325581     0.088793"
      ]
     },
     "execution_count": 44,
     "metadata": {},
     "output_type": "execute_result"
    }
   ],
   "source": [
    "import pandas as pd\n",
    "import seaborn as sns\n",
    "centrality_measures = {\n",
    "    'degree': degc,\n",
    "    'betweenness': bet,\n",
    "    'closeness': clos,\n",
    "    'eigenvector': eig,\n",
    "}\n",
    "centrality = pd.DataFrame(centrality_measures)\n",
    "centrality"
   ]
  },
  {
   "cell_type": "code",
   "execution_count": 45,
   "metadata": {
    "ExecuteTime": {
     "end_time": "2022-01-25T04:41:34.161494Z",
     "start_time": "2022-01-25T04:41:28.462521Z"
    }
   },
   "outputs": [
    {
     "data": {
      "text/plain": [
       "<seaborn.axisgrid.PairGrid at 0x1f98d7b9c08>"
      ]
     },
     "execution_count": 45,
     "metadata": {},
     "output_type": "execute_result"
    },
    {
     "data": {
      "image/png": "[encoded data removed]",
      "text/plain": [
       "<Figure size 720x720 with 20 Axes>"
      ]
     },
     "metadata": {
      "needs_background": "light"
     },
     "output_type": "display_data"
    }
   ],
   "source": [
    "sns.pairplot(centrality)"
   ]
  },
  {
   "cell_type": "markdown",
   "metadata": {},
   "source": [
    "## Edge betweenness centrality of edges\n",
    "\n",
    "Same as betweenness for node but we are just considering edges\n"
   ]
  },
  {
   "cell_type": "code",
   "execution_count": 46,
   "metadata": {
    "ExecuteTime": {
     "end_time": "2022-01-25T04:41:34.224306Z",
     "start_time": "2022-01-25T04:41:34.210343Z"
    }
   },
   "outputs": [
    {
     "name": "stdout",
     "output_type": "stream",
     "text": [
      "\n",
      " Top 5 edge betweenness centrality   :\n",
      "\n",
      "(('Medici', 'Salviati'), 0.24761904761904763),\n",
      "(('Medici', 'Albizzi'), 0.21269841269841266),\n",
      "(('Medici', 'Barbadori'), 0.1761904761904762),\n",
      "(('Bischeri', 'Guadagni'), 0.1634920634920635),\n",
      "(('Albizzi', 'Guadagni'), 0.15555555555555559),\n"
     ]
    }
   ],
   "source": [
    "ebc=nx.edge_betweenness_centrality(G, normalized=True, weight=None)\n",
    "ebl=sorted(ebc.items(),\n",
    "       key=lambda i: i[1],\n",
    "       reverse=True)[:5]\n",
    "s='\\n Top 5 edge betweenness centrality   :\\n'\n",
    "print (s)\n",
    "for item in ebl:\n",
    "    s= repr(item) + ','\n",
    "    print (s)\n"
   ]
  },
  {
   "cell_type": "markdown",
   "metadata": {},
   "source": [
    "##  PageRank centrality "
   ]
  },
  {
   "cell_type": "code",
   "execution_count": 47,
   "metadata": {
    "ExecuteTime": {
     "end_time": "2022-01-25T04:41:34.286162Z",
     "start_time": "2022-01-25T04:41:34.277151Z"
    }
   },
   "outputs": [
    {
     "name": "stdout",
     "output_type": "stream",
     "text": [
      "\n",
      " sorted pagerank:\n",
      "\n",
      "[('Medici', 0.14581844065218275), ('Guadagni', 0.09839859717156552), ('Strozzi', 0.08809849082725613), ('Albizzi', 0.079121502380729), ('Tornabuoni', 0.07127928374676082), ('Ridolfi', 0.069574170990148), ('Castellani', 0.06933028447008721), ('Bischeri', 0.0688615381141211), ('Peruzzi', 0.06787531774407572), ('Salviati', 0.061302640987807314), ('Barbadori', 0.050300712744633685), ('Pazzi', 0.036054222996734095), ('Ginori', 0.032418257716596434), ('Lamberteschi', 0.03090932465499793), ('Acciaiuoli', 0.03065721480230426)]\n"
     ]
    }
   ],
   "source": [
    "from operator import itemgetter\n",
    "s='\\n sorted pagerank:\\n'\n",
    "print (s)\n",
    "pgr=nx.pagerank(G)\n",
    "print (sorted(pgr.items(), key=itemgetter(1), reverse=True))\n"
   ]
  },
  {
   "cell_type": "markdown",
   "metadata": {
    "ExecuteTime": {
     "end_time": "2019-08-26T09:14:42.730985Z",
     "start_time": "2019-08-26T09:14:42.727887Z"
    }
   },
   "source": [
    "## Harmonic Closeness Centrality"
   ]
  },
  {
   "cell_type": "code",
   "execution_count": 48,
   "metadata": {
    "ExecuteTime": {
     "end_time": "2022-01-25T04:41:34.333499Z",
     "start_time": "2022-01-25T04:41:34.320035Z"
    }
   },
   "outputs": [
    {
     "name": "stdout",
     "output_type": "stream",
     "text": [
      "\n",
      " sorted Harmonic Centrality :\n",
      "\n",
      "[('Medici', 9.500000000000002), ('Guadagni', 8.083333333333332), ('Ridolfi', 7.999999999999999), ('Strozzi', 7.833333333333332), ('Tornabuoni', 7.833333333333332), ('Albizzi', 7.833333333333332), ('Bischeri', 7.199999999999999), ('Barbadori', 7.083333333333332), ('Castellani', 6.916666666666665), ('Peruzzi', 6.783333333333332), ('Salviati', 6.583333333333332), ('Acciaiuoli', 5.916666666666666), ('Lamberteschi', 5.366666666666667), ('Ginori', 5.333333333333334), ('Pazzi', 4.7666666666666675)]\n"
     ]
    }
   ],
   "source": [
    "har = nx.harmonic_centrality(G)\n",
    "s='\\n sorted Harmonic Centrality :\\n'\n",
    "print (s)\n",
    "\n",
    "print (sorted(har.items(), key=itemgetter(1), reverse=True))\n",
    "\n"
   ]
  },
  {
   "cell_type": "markdown",
   "metadata": {
    "slideshow": {
     "slide_type": "slide"
    }
   },
   "source": [
    "# Exercise - illustrate paths in the Florentine families graph\n",
    "\n",
    "Shortest paths are not unique, we can have more of one path with the same length. You can use **nx.all_shortest_paths** to get all shortest paths."
   ]
  },
  {
   "cell_type": "code",
   "execution_count": 49,
   "metadata": {
    "ExecuteTime": {
     "end_time": "2022-01-25T04:41:34.380399Z",
     "start_time": "2022-01-25T04:41:34.367421Z"
    },
    "slideshow": {
     "slide_type": "slide"
    }
   },
   "outputs": [],
   "source": [
    "G = nx.florentine_families_graph()\n"
   ]
  },
  {
   "cell_type": "code",
   "execution_count": 50,
   "metadata": {
    "ExecuteTime": {
     "end_time": "2022-01-25T04:41:34.443216Z",
     "start_time": "2022-01-25T04:41:34.430239Z"
    }
   },
   "outputs": [],
   "source": [
    "# also save the graph data for possible analysis by Gephi\n",
    "nx.write_gexf(G, \"florentine.gexf\")\n",
    "#This does NOT support mixed mode graph ( directed and undirected)"
   ]
  },
  {
   "cell_type": "code",
   "execution_count": 51,
   "metadata": {
    "ExecuteTime": {
     "end_time": "2022-01-25T04:41:34.504043Z",
     "start_time": "2022-01-25T04:41:34.476116Z"
    }
   },
   "outputs": [
    {
     "data": {
      "text/plain": [
       "{'Acciaiuoli': array([ 0.20049072, -0.52321373]),\n",
       " 'Medici': array([ 0.04687286, -0.1943993 ]),\n",
       " 'Castellani': array([-0.32112892,  0.56078986]),\n",
       " 'Peruzzi': array([-0.20655128,  0.77068858]),\n",
       " 'Strozzi': array([-0.02822474,  0.61568396]),\n",
       " 'Barbadori': array([-0.25771298,  0.16995615]),\n",
       " 'Ridolfi': array([0.1375016 , 0.24448757]),\n",
       " 'Tornabuoni': array([0.20077782, 0.03201663]),\n",
       " 'Albizzi': array([ 0.35549067, -0.16751419]),\n",
       " 'Salviati': array([-0.11126536, -0.65587679]),\n",
       " 'Pazzi': array([-0.21341264, -1.        ]),\n",
       " 'Bischeri': array([-0.10932652,  0.46705096]),\n",
       " 'Guadagni': array([-0.0264472 ,  0.05303905]),\n",
       " 'Ginori': array([ 0.72212346, -0.27528054]),\n",
       " 'Lamberteschi': array([-0.38918748, -0.0974282 ])}"
      ]
     },
     "execution_count": 51,
     "metadata": {},
     "output_type": "execute_result"
    }
   ],
   "source": [
    "pos_spring = nx.spring_layout(G)\n",
    "pos_fr = nx.fruchterman_reingold_layout(G)\n",
    "pos_fr"
   ]
  },
  {
   "cell_type": "code",
   "execution_count": 52,
   "metadata": {
    "ExecuteTime": {
     "end_time": "2022-01-25T04:41:34.739129Z",
     "start_time": "2022-01-25T04:41:34.553909Z"
    },
    "slideshow": {
     "slide_type": "slide"
    }
   },
   "outputs": [
    {
     "data": {
      "image/png": "[encoded data removed]",
      "text/plain": [
       "<Figure size 864x864 with 1 Axes>"
      ]
     },
     "metadata": {},
     "output_type": "display_data"
    }
   ],
   "source": [
    "plt.figure(figsize=(12,12))\n",
    "nx.draw(G, pos=pos_fr, node_size=3000, node_color='red', with_labels=True)"
   ]
  },
  {
   "cell_type": "code",
   "execution_count": 53,
   "metadata": {
    "ExecuteTime": {
     "end_time": "2022-01-25T04:41:34.801000Z",
     "start_time": "2022-01-25T04:41:34.793977Z"
    },
    "slideshow": {
     "slide_type": "slide"
    }
   },
   "outputs": [
    {
     "data": {
      "text/plain": [
       "['Medici', 'Barbadori', 'Castellani', 'Peruzzi']"
      ]
     },
     "execution_count": 53,
     "metadata": {},
     "output_type": "execute_result"
    }
   ],
   "source": [
    "source = 'Medici'\n",
    "target = 'Peruzzi'\n",
    "nx.shortest_path(G, source, target)"
   ]
  },
  {
   "cell_type": "code",
   "execution_count": 54,
   "metadata": {
    "ExecuteTime": {
     "end_time": "2022-01-25T04:41:34.878749Z",
     "start_time": "2022-01-25T04:41:34.864787Z"
    },
    "slideshow": {
     "slide_type": "slide"
    }
   },
   "outputs": [
    {
     "data": {
      "text/plain": [
       "[['Medici', 'Barbadori', 'Castellani', 'Peruzzi'],\n",
       " ['Medici', 'Ridolfi', 'Strozzi', 'Peruzzi']]"
      ]
     },
     "execution_count": 54,
     "metadata": {},
     "output_type": "execute_result"
    }
   ],
   "source": [
    "# Shortest paths are not unique\n",
    "list(nx.all_shortest_paths(G, source, target))"
   ]
  },
  {
   "cell_type": "code",
   "execution_count": 55,
   "metadata": {
    "ExecuteTime": {
     "end_time": "2022-01-25T04:41:34.956097Z",
     "start_time": "2022-01-25T04:41:34.945118Z"
    },
    "slideshow": {
     "slide_type": "slide"
    }
   },
   "outputs": [],
   "source": [
    "def plot_paths(G, paths):\n",
    "    plt.figure(figsize=(12,12))\n",
    "    pos = nx.fruchterman_reingold_layout(G)\n",
    "    nx.draw_networkx_nodes(G, pos=pos, node_size=3000, node_color='yellow')\n",
    "    nx.draw_networkx_labels(G, pos=pos, labels={n: n for n in G})\n",
    "    # Draw edges\n",
    "    nx.draw_networkx_edges(G, pos=pos)\n",
    "    for path in paths:\n",
    "        edges = list(zip(path, path[1:]))\n",
    "        nx.draw_networkx_edges(G, pos=pos, edgelist=edges, edge_color='red', width=3)\n",
    "    ax = plt.gca()\n",
    "    ax.set_axis_off()\n",
    "    ax.grid(None)"
   ]
  },
  {
   "cell_type": "code",
   "execution_count": 56,
   "metadata": {
    "ExecuteTime": {
     "end_time": "2022-01-25T04:41:35.160431Z",
     "start_time": "2022-01-25T04:41:35.019783Z"
    },
    "slideshow": {
     "slide_type": "slide"
    }
   },
   "outputs": [
    {
     "data": {
      "image/png": "[encoded data removed]",
      "text/plain": [
       "<Figure size 864x864 with 1 Axes>"
      ]
     },
     "metadata": {},
     "output_type": "display_data"
    }
   ],
   "source": [
    "plot_paths(G, [nx.shortest_path(G, source, target)])"
   ]
  },
  {
   "cell_type": "code",
   "execution_count": 57,
   "metadata": {
    "ExecuteTime": {
     "end_time": "2022-01-25T04:41:35.409539Z",
     "start_time": "2022-01-25T04:41:35.207960Z"
    },
    "slideshow": {
     "slide_type": "slide"
    }
   },
   "outputs": [
    {
     "data": {
      "image/png": "[encoded data removed]",
      "text/plain": [
       "<Figure size 864x864 with 1 Axes>"
      ]
     },
     "metadata": {},
     "output_type": "display_data"
    }
   ],
   "source": [
    "plot_paths(G, nx.all_shortest_paths(G, source, target))"
   ]
  },
  {
   "cell_type": "code",
   "execution_count": 58,
   "metadata": {
    "ExecuteTime": {
     "end_time": "2022-01-25T04:41:35.472130Z",
     "start_time": "2022-01-25T04:41:35.460162Z"
    },
    "slideshow": {
     "slide_type": "slide"
    }
   },
   "outputs": [
    {
     "name": "stdout",
     "output_type": "stream",
     "text": [
      "1 ['Medici', 'Barbadori', 'Castellani', 'Peruzzi']\n",
      "2 ['Medici', 'Barbadori', 'Castellani', 'Strozzi', 'Peruzzi']\n",
      "3 ['Medici', 'Barbadori', 'Castellani', 'Strozzi', 'Ridolfi', 'Tornabuoni', 'Guadagni', 'Bischeri', 'Peruzzi']\n",
      "4 ['Medici', 'Barbadori', 'Castellani', 'Strozzi', 'Bischeri', 'Peruzzi']\n",
      "5 ['Medici', 'Ridolfi', 'Strozzi', 'Castellani', 'Peruzzi']\n",
      "6 ['Medici', 'Ridolfi', 'Strozzi', 'Peruzzi']\n",
      "7 ['Medici', 'Ridolfi', 'Strozzi', 'Bischeri', 'Peruzzi']\n",
      "8 ['Medici', 'Ridolfi', 'Tornabuoni', 'Guadagni', 'Bischeri', 'Peruzzi']\n",
      "9 ['Medici', 'Ridolfi', 'Tornabuoni', 'Guadagni', 'Bischeri', 'Strozzi', 'Castellani', 'Peruzzi']\n",
      "10 ['Medici', 'Ridolfi', 'Tornabuoni', 'Guadagni', 'Bischeri', 'Strozzi', 'Peruzzi']\n",
      "11 ['Medici', 'Tornabuoni', 'Ridolfi', 'Strozzi', 'Castellani', 'Peruzzi']\n",
      "12 ['Medici', 'Tornabuoni', 'Ridolfi', 'Strozzi', 'Peruzzi']\n",
      "13 ['Medici', 'Tornabuoni', 'Ridolfi', 'Strozzi', 'Bischeri', 'Peruzzi']\n",
      "14 ['Medici', 'Tornabuoni', 'Guadagni', 'Bischeri', 'Peruzzi']\n",
      "15 ['Medici', 'Tornabuoni', 'Guadagni', 'Bischeri', 'Strozzi', 'Castellani', 'Peruzzi']\n",
      "16 ['Medici', 'Tornabuoni', 'Guadagni', 'Bischeri', 'Strozzi', 'Peruzzi']\n",
      "17 ['Medici', 'Albizzi', 'Guadagni', 'Tornabuoni', 'Ridolfi', 'Strozzi', 'Castellani', 'Peruzzi']\n",
      "18 ['Medici', 'Albizzi', 'Guadagni', 'Tornabuoni', 'Ridolfi', 'Strozzi', 'Peruzzi']\n",
      "19 ['Medici', 'Albizzi', 'Guadagni', 'Tornabuoni', 'Ridolfi', 'Strozzi', 'Bischeri', 'Peruzzi']\n",
      "20 ['Medici', 'Albizzi', 'Guadagni', 'Bischeri', 'Peruzzi']\n",
      "21 ['Medici', 'Albizzi', 'Guadagni', 'Bischeri', 'Strozzi', 'Castellani', 'Peruzzi']\n",
      "22 ['Medici', 'Albizzi', 'Guadagni', 'Bischeri', 'Strozzi', 'Peruzzi']\n"
     ]
    }
   ],
   "source": [
    "for i, path in enumerate(nx.all_simple_paths(G, source, target), 1):\n",
    "    print(i, path)"
   ]
  },
  {
   "cell_type": "code",
   "execution_count": 59,
   "metadata": {
    "ExecuteTime": {
     "end_time": "2022-01-25T04:41:35.549921Z",
     "start_time": "2022-01-25T04:41:35.521006Z"
    },
    "slideshow": {
     "slide_type": "slide"
    }
   },
   "outputs": [
    {
     "name": "stdout",
     "output_type": "stream",
     "text": [
      "1 ['Medici', 'Barbadori', 'Castellani', 'Peruzzi']\n",
      "2 ['Medici', 'Ridolfi', 'Strozzi', 'Peruzzi']\n",
      "3 ['Medici', 'Barbadori', 'Castellani', 'Strozzi', 'Peruzzi']\n",
      "4 ['Medici', 'Tornabuoni', 'Ridolfi', 'Strozzi', 'Peruzzi']\n",
      "5 ['Medici', 'Ridolfi', 'Strozzi', 'Castellani', 'Peruzzi']\n",
      "6 ['Medici', 'Albizzi', 'Guadagni', 'Bischeri', 'Peruzzi']\n",
      "7 ['Medici', 'Tornabuoni', 'Guadagni', 'Bischeri', 'Peruzzi']\n",
      "8 ['Medici', 'Ridolfi', 'Strozzi', 'Bischeri', 'Peruzzi']\n",
      "9 ['Medici', 'Ridolfi', 'Tornabuoni', 'Guadagni', 'Bischeri', 'Peruzzi']\n",
      "10 ['Medici', 'Barbadori', 'Castellani', 'Strozzi', 'Bischeri', 'Peruzzi']\n",
      "11 ['Medici', 'Tornabuoni', 'Ridolfi', 'Strozzi', 'Castellani', 'Peruzzi']\n",
      "12 ['Medici', 'Albizzi', 'Guadagni', 'Bischeri', 'Strozzi', 'Peruzzi']\n",
      "13 ['Medici', 'Tornabuoni', 'Guadagni', 'Bischeri', 'Strozzi', 'Peruzzi']\n",
      "14 ['Medici', 'Tornabuoni', 'Ridolfi', 'Strozzi', 'Bischeri', 'Peruzzi']\n",
      "15 ['Medici', 'Albizzi', 'Guadagni', 'Tornabuoni', 'Ridolfi', 'Strozzi', 'Peruzzi']\n",
      "16 ['Medici', 'Ridolfi', 'Tornabuoni', 'Guadagni', 'Bischeri', 'Strozzi', 'Peruzzi']\n",
      "17 ['Medici', 'Albizzi', 'Guadagni', 'Bischeri', 'Strozzi', 'Castellani', 'Peruzzi']\n",
      "18 ['Medici', 'Tornabuoni', 'Guadagni', 'Bischeri', 'Strozzi', 'Castellani', 'Peruzzi']\n",
      "19 ['Medici', 'Albizzi', 'Guadagni', 'Tornabuoni', 'Ridolfi', 'Strozzi', 'Castellani', 'Peruzzi']\n",
      "20 ['Medici', 'Ridolfi', 'Tornabuoni', 'Guadagni', 'Bischeri', 'Strozzi', 'Castellani', 'Peruzzi']\n",
      "21 ['Medici', 'Albizzi', 'Guadagni', 'Tornabuoni', 'Ridolfi', 'Strozzi', 'Bischeri', 'Peruzzi']\n",
      "22 ['Medici', 'Barbadori', 'Castellani', 'Strozzi', 'Ridolfi', 'Tornabuoni', 'Guadagni', 'Bischeri', 'Peruzzi']\n"
     ]
    }
   ],
   "source": [
    "for i, path in enumerate(nx.shortest_simple_paths(G, source, target), 1):\n",
    "    print(i, path)"
   ]
  },
  {
   "cell_type": "markdown",
   "metadata": {
    "slideshow": {
     "slide_type": "slide"
    }
   },
   "source": [
    "# Exercise : degree distribution\n"
   ]
  },
  {
   "cell_type": "code",
   "execution_count": 60,
   "metadata": {
    "ExecuteTime": {
     "end_time": "2022-01-25T04:41:35.612752Z",
     "start_time": "2022-01-25T04:41:35.598790Z"
    },
    "slideshow": {
     "slide_type": "slide"
    }
   },
   "outputs": [
    {
     "name": "stdout",
     "output_type": "stream",
     "text": [
      "Nodes:  15\n",
      "Edges:  20\n",
      "Average degree:  1.3333333333333333\n"
     ]
    }
   ],
   "source": [
    "N,K = G.order(), G.size()\n",
    "avg_deg = float(K)/N\n",
    "print (\"Nodes: \", N)\n",
    "print (\"Edges: \", K)\n",
    "print (\"Average degree: \", avg_deg)\n"
   ]
  },
  {
   "cell_type": "code",
   "execution_count": 64,
   "metadata": {
    "ExecuteTime": {
     "end_time": "2022-01-25T04:45:04.020067Z",
     "start_time": "2022-01-25T04:45:03.845542Z"
    },
    "slideshow": {
     "slide_type": "slide"
    }
   },
   "outputs": [
    {
     "data": {
      "image/png": "[encoded data removed]",
      "text/plain": [
       "<Figure size 432x288 with 2 Axes>"
      ]
     },
     "metadata": {
      "needs_background": "light"
     },
     "output_type": "display_data"
    }
   ],
   "source": [
    "import collections\n",
    "\n",
    "degree_sequence = sorted([d for n, d in G.degree()], reverse=True)  # degree sequence\n",
    "# print \"Degree sequence\", degree_sequence\n",
    "degreeCount = collections.Counter(degree_sequence)\n",
    "deg, cnt = zip(*degreeCount.items())\n",
    "\n",
    "fig, ax = plt.subplots()\n",
    "plt.bar(deg, cnt, width=0.80, color='b')\n",
    "\n",
    "plt.title(\"Degree Histogram\")\n",
    "plt.ylabel(\"Count\")\n",
    "plt.xlabel(\"Degree\")\n",
    "ax.set_xticks([d + 0.4 for d in deg])\n",
    "ax.set_xticklabels(deg)\n",
    "\n",
    "# draw graph in inset\n",
    "plt.axes([0.4, 0.4, 0.5, 0.5])\n",
    "A = (G.subgraph(c) for c in nx.connected_components(G))\n",
    "# = list(A)[0]\n",
    "Gcc = sorted(A, key=len, reverse=True)[0]\n",
    "pos = nx.spring_layout(G)\n",
    "plt.axis('off')\n",
    "nx.draw_networkx_nodes(G, pos, node_size=20)\n",
    "nx.draw_networkx_edges(G, pos, alpha=0.4)\n",
    "\n",
    "plt.show()"
   ]
  },
  {
   "cell_type": "code",
   "execution_count": 65,
   "metadata": {
    "ExecuteTime": {
     "end_time": "2022-01-25T04:45:14.316351Z",
     "start_time": "2022-01-25T04:45:13.234671Z"
    },
    "slideshow": {
     "slide_type": "slide"
    }
   },
   "outputs": [
    {
     "data": {
      "image/png": "[encoded data removed]",
      "text/plain": [
       "<Figure size 432x288 with 1 Axes>"
      ]
     },
     "metadata": {
      "needs_background": "light"
     },
     "output_type": "display_data"
    }
   ],
   "source": [
    "########################################################################\n",
    "# Degree distribution \n",
    "########################################################################\n",
    "\n",
    "degrees = G.degree()\n",
    "degree_sequence = sorted([d for n, d in G.degree()], reverse=True)  # degree sequence\n",
    "\n",
    "# loglog tells matplotlib to use log scales.\n",
    "# The x values, range(1,10001), are the ranks, \n",
    "# and the degree_sequence are the y values.\n",
    "# The String 'k.' means use black (k) dots (.)\n",
    "'''\n",
    "Now we need to do some plotting. Plotting using matplotlib is a lot like \n",
    "plotting using MATLAB. Because the degree distribution of a BA graph is a \n",
    "power-law, we'd like to use a plot with log scales. Here is how we'd do it.\n",
    "\n",
    "'''\n",
    "plt.loglog(range(1,G.order()+1),degree_sequence,'k.')\n",
    "plt.title(\"Degree distribution with log scale\")\n",
    "plt.xlabel('Rank')\n",
    "plt.ylabel('Degree')\n",
    "plt.ylim(1,max(degree_sequence)+1)\n",
    "plt.xlim(.9,10001)\n",
    "plt.savefig(\"degree_distribution.png\")"
   ]
  },
  {
   "cell_type": "markdown",
   "metadata": {
    "slideshow": {
     "slide_type": "slide"
    }
   },
   "source": [
    "# Exercise :  Centrality Scatter plot "
   ]
  },
  {
   "cell_type": "code",
   "execution_count": 66,
   "metadata": {
    "ExecuteTime": {
     "end_time": "2022-01-25T04:45:16.236260Z",
     "start_time": "2022-01-25T04:45:16.225292Z"
    },
    "slideshow": {
     "slide_type": "slide"
    }
   },
   "outputs": [],
   "source": [
    "#Centrality scatter plot \n",
    "def centrality_scatter(dict1,dict2,path=\"\",ylab=\"\",xlab=\"\",title=\"\",line=False):\n",
    "    # Create figure and drawing axis\n",
    "    fig = plt.figure(figsize=(10,10))\n",
    "    ax1 = fig.add_subplot(111)\n",
    "    # Create items and extract centralities\n",
    "    items1 = sorted(dict1.items())\n",
    "    items2 = sorted(dict2.items())\n",
    "    xdata=[b for a,b in items1]\n",
    "    ydata=[b for a,b in items2]\n",
    "    # Add each actor to the plot by ID\n",
    "    for p in range(len(items1)):\n",
    "        ax1.text(x=xdata[p], y=ydata[p],s=str(items1[p][0]), color=\"b\")\n",
    "        if line:\n",
    "            # use NumPy to calculate the best fit\n",
    "            slope, yint = plt.polyfit(xdata,ydata,1)\n",
    "            xline = plt.xticks()[0]\n",
    "            yline = map(lambda x: slope*x+yint,xline)\n",
    "            ax1.plot(xline,yline,ls='--',color='b')\n",
    "        # Set new x- and y-axis limits\n",
    "    plt.xlim((0.0,max(xdata)+(.15*max(xdata))))\n",
    "    plt.ylim((0.0,max(ydata)+(.15*max(ydata))))\n",
    "    # Add labels and save\n",
    "    ax1.set_title(title)\n",
    "    ax1.set_xlabel(xlab)\n",
    "    ax1.set_ylabel(ylab)\n",
    "    plt.savefig(path)    \n"
   ]
  },
  {
   "cell_type": "code",
   "execution_count": 67,
   "metadata": {
    "ExecuteTime": {
     "end_time": "2022-01-25T04:45:17.020706Z",
     "start_time": "2022-01-25T04:45:17.001756Z"
    },
    "slideshow": {
     "slide_type": "slide"
    }
   },
   "outputs": [],
   "source": [
    "cc=nx.closeness_centrality(G)\n",
    "dc=nx.degree_centrality(G)\n",
    "bc = nx.betweenness_centrality(G)\n",
    "ec = nx.eigenvector_centrality(G,max_iter=1000)\n",
    "\n",
    "sorted_dc=sorted(dc.items())\n",
    "sorted_bc=sorted(bc.items())\n",
    "sorted_cc=sorted(cc.items())\n",
    "sorted_ec=sorted(ec.items())\n",
    "\n",
    "#extract the centralities\n",
    "deg_data=[y for x,y in sorted_dc]\n",
    "close_data=[y for x,y in sorted_cc]\n",
    "betw_data=[y for x,y in sorted_bc]\n",
    "eig_data=[y for x,y in sorted_ec]\n",
    "\n"
   ]
  },
  {
   "cell_type": "code",
   "execution_count": 68,
   "metadata": {
    "ExecuteTime": {
     "end_time": "2022-01-25T04:45:17.850118Z",
     "start_time": "2022-01-25T04:45:17.835158Z"
    },
    "slideshow": {
     "slide_type": "slide"
    }
   },
   "outputs": [
    {
     "name": "stdout",
     "output_type": "stream",
     "text": [
      "\n",
      " Pearson Correlation Coeff deg and betweenness: (0.8441513289848926, 7.575095714865155e-05)\n",
      "\n",
      " Pearson Correlation Coeff deg and closeness: (0.8245138298922935, 0.00015582981906258532)\n",
      "\n",
      " Pearson Correlation Coeff betweennness and closeness: (0.8066296471635478, 0.0002796697223251082)\n",
      "\n",
      " Pearson Correlation Coeff betweennness and eigenvector : (0.6655010682819833, 0.006772196960711754)\n"
     ]
    }
   ],
   "source": [
    "from scipy.stats.stats import pearsonr\n",
    "\n",
    "r1=pearsonr(deg_data,betw_data)\n",
    "s= \"\\n Pearson Correlation Coeff deg and betweenness: \" + repr(r1)\n",
    "print (s)\n",
    "\n",
    "r2=pearsonr(deg_data,close_data)\n",
    "s= \"\\n Pearson Correlation Coeff deg and closeness: \" + repr(r2)\n",
    "print (s)\n",
    "\n",
    "\n",
    "r3=pearsonr(betw_data,close_data)\n",
    "s= \"\\n Pearson Correlation Coeff betweennness and closeness: \" + repr(r3)\n",
    "print (s)\n",
    "\n",
    "r4=pearsonr(betw_data,eig_data)\n",
    "s= \"\\n Pearson Correlation Coeff betweennness and eigenvector : \" + repr(r4)\n",
    "print (s)\n",
    "\n"
   ]
  },
  {
   "cell_type": "code",
   "execution_count": 69,
   "metadata": {
    "ExecuteTime": {
     "end_time": "2022-01-25T04:45:19.958722Z",
     "start_time": "2022-01-25T04:45:18.774093Z"
    },
    "slideshow": {
     "slide_type": "slide"
    }
   },
   "outputs": [
    {
     "data": {
      "image/png": "[encoded data removed]",
      "text/plain": [
       "<Figure size 720x720 with 1 Axes>"
      ]
     },
     "metadata": {
      "needs_background": "light"
     },
     "output_type": "display_data"
    },
    {
     "data": {
      "image/png": "[encoded data removed]",
      "text/plain": [
       "<Figure size 720x720 with 1 Axes>"
      ]
     },
     "metadata": {
      "needs_background": "light"
     },
     "output_type": "display_data"
    },
    {
     "data": {
      "image/png": "[encoded data removed]",
      "text/plain": [
       "<Figure size 720x720 with 1 Axes>"
      ]
     },
     "metadata": {
      "needs_background": "light"
     },
     "output_type": "display_data"
    },
    {
     "data": {
      "image/png": "[encoded data removed]",
      "text/plain": [
       "<Figure size 720x720 with 1 Axes>"
      ]
     },
     "metadata": {
      "needs_background": "light"
     },
     "output_type": "display_data"
    }
   ],
   "source": [
    "##########################\n",
    "# Draw centrality scatter \n",
    "centrality_scatter(dc,bc,path=\"cum18bcdc\",ylab=\"betweenness centrality\",xlab=\"degree centrality\",title=\"centrality scatter diagram\",line=False)\n",
    "centrality_scatter(dc,cc,path=\"cum18ccdc\",ylab=\"closeness centrality\",xlab=\"degree centrality\",title=\"centrality scatter diagram\",line=False)\n",
    "centrality_scatter(bc,cc,path=\"cum18ccbc\",ylab=\"closeness centrality\",xlab=\"betweenness centrality\",title=\"centrality scatter diagram\",line=False)\n",
    "centrality_scatter(ec,bc,path=\"cum18bcec\",ylab=\"betweenness centrality\",xlab=\"eigenvector centrality\",title=\"centrality scatter diagram\",line=False)\n"
   ]
  },
  {
   "cell_type": "markdown",
   "metadata": {
    "slideshow": {
     "slide_type": "slide"
    }
   },
   "source": [
    "# Exercise :  Find Specific Ego Network "
   ]
  },
  {
   "cell_type": "code",
   "execution_count": 70,
   "metadata": {
    "ExecuteTime": {
     "end_time": "2022-01-25T04:45:20.750444Z",
     "start_time": "2022-01-25T04:45:20.633660Z"
    },
    "slideshow": {
     "slide_type": "slide"
    }
   },
   "outputs": [
    {
     "data": {
      "image/png": "[encoded data removed]",
      "text/plain": [
       "<Figure size 432x288 with 1 Axes>"
      ]
     },
     "metadata": {},
     "output_type": "display_data"
    }
   ],
   "source": [
    "s='Medici'\n",
    "#u = unicode(s, \"utf-8\")\n",
    "hub_ego=nx.ego_graph(G,s)\n",
    "# Draw graph\n",
    "pos=nx.spring_layout(hub_ego)\n",
    "nx.draw(hub_ego,pos,node_color='b',node_size=50,with_labels=False)\n",
    "# Draw ego as large and red\n",
    "#nx.draw_networkx_nodes(hub_ego,pos,with_labels = True,nodelist=[largest_hub],node_size=300,node_color='r')\n",
    "plt.savefig('Medici.png')\n",
    "plt.show()\n",
    "nx.write_gml(hub_ego,\"egonw_medici.gml\")\n",
    "\n"
   ]
  },
  {
   "cell_type": "code",
   "execution_count": 71,
   "metadata": {
    "ExecuteTime": {
     "end_time": "2022-01-25T04:45:21.464646Z",
     "start_time": "2022-01-25T04:45:21.456646Z"
    },
    "slideshow": {
     "slide_type": "slide"
    }
   },
   "outputs": [
    {
     "name": "stdout",
     "output_type": "stream",
     "text": [
      "Medici's Ego Network : nodes 7\n",
      "Medici's Ego Network : edges 7\n"
     ]
    }
   ],
   "source": [
    "no_node=len(hub_ego.nodes())\n",
    "no_edges=len(hub_ego.edges())\n",
    "print(\"Medici's Ego Network : nodes\", no_node)\n",
    "print(\"Medici's Ego Network : edges\", no_edges)"
   ]
  },
  {
   "cell_type": "code",
   "execution_count": null,
   "metadata": {},
   "outputs": [],
   "source": []
  }
 ],
 "metadata": {
  "celltoolbar": "Slideshow",
  "kernelspec": {
   "display_name": "Python 3 (ipykernel)",
   "language": "python",
   "name": "python3"
  },
  "language_info": {
   "codemirror_mode": {
    "name": "ipython",
    "version": 3
   },
   "file_extension": ".py",
   "mimetype": "text/x-python",
   "name": "python",
   "nbconvert_exporter": "python",
   "pygments_lexer": "ipython3",
   "version": "3.10.2"
  },
  "toc": {
   "base_numbering": 1,
   "nav_menu": {},
   "number_sections": true,
   "sideBar": true,
   "skip_h1_title": false,
   "title_cell": "Table of Contents",
   "title_sidebar": "Contents",
   "toc_cell": false,
   "toc_position": {
    "height": "calc(100% - 180px)",
    "left": "10px",
    "top": "150px",
    "width": "237.544px"
   },
   "toc_section_display": true,
   "toc_window_display": true
  },
  "varInspector": {
   "cols": {
    "lenName": 16,
    "lenType": 16,
    "lenVar": 40
   },
   "kernels_config": {
    "python": {
     "delete_cmd_postfix": "",
     "delete_cmd_prefix": "del ",
     "library": "var_list.py",
     "varRefreshCmd": "print(var_dic_list())"
    },
    "r": {
     "delete_cmd_postfix": ") ",
     "delete_cmd_prefix": "rm(",
     "library": "var_list.r",
     "varRefreshCmd": "cat(var_dic_list()) "
    }
   },
   "types_to_exclude": [
    "module",
    "function",
    "builtin_function_or_method",
    "instance",
    "_Feature"
   ],
   "window_display": false
  }
 },
 "nbformat": 4,
 "nbformat_minor": 1
}
